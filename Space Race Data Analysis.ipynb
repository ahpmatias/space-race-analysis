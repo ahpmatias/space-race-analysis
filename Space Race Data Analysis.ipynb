{
 "cells": [
  {
   "cell_type": "markdown",
   "metadata": {},
   "source": [
    "<img src=\"https://images.unsplash.com/photo-1446776709462-d6b525c57bd3?q=80&w=2070&auto=format&fit=crop&ixlib=rb-4.0.3&ixid=M3wxMjA3fDB8MHxwaG90by1wYWdlfHx8fGVufDB8fHx8fA%3D%3D\" height=500>\n",
    "\n",
    "###### Source: NASA via Unsplash"
   ]
  },
  {
   "cell_type": "markdown",
   "metadata": {},
   "source": [
    "# Analyzing and Visualizing the Space Race"
   ]
  },
  {
   "cell_type": "markdown",
   "metadata": {},
   "source": [
    "### 0. Setup"
   ]
  },
  {
   "cell_type": "markdown",
   "metadata": {},
   "source": [
    "#### 0.1 Import Statements"
   ]
  },
  {
   "cell_type": "code",
   "execution_count": 12,
   "metadata": {},
   "outputs": [],
   "source": [
    "import pandas as pd\n",
    "import numpy as np\n",
    "import seaborn as sns\n",
    "import plotly.express as px\n",
    "import matplotlib.pyplot as plt\n",
    "from sklearn.linear_model import LinearRegression\n",
    "from sklearn.model_selection import train_test_split\n",
    "import statistics\n",
    "from scipy.stats import skew"
   ]
  },
  {
   "cell_type": "markdown",
   "metadata": {},
   "source": [
    "#### 0.2 Notebook Formatting"
   ]
  },
  {
   "cell_type": "code",
   "execution_count": 13,
   "metadata": {},
   "outputs": [],
   "source": [
    "pd.options.display.float_format = '{:,.2f}'.format"
   ]
  },
  {
   "cell_type": "markdown",
   "metadata": {},
   "source": [
    "### 1. Understanding The Problem"
   ]
  },
  {
   "cell_type": "markdown",
   "metadata": {},
   "source": [
    "#### 1.1 Historical Context\n",
    "\n",
    "The Space Race, which began in the 1950s between the United States and the Soviet Union, holds significant historical relevance. This period marked a pivotal point in human achievement, where technological and scientific advancements pushed the boundaries of exploration and innovation. The drive to explore space was not only a pursuit of scientific discovery but also a critical demonstration of national power and technological supremacy amid Cold War tensions.\n",
    "\n",
    "From a societal perspective, the Space Race fueled global fascination and inspired generations to pursue careers in science, technology, engineering, and mathematics (STEM). Economically, the competition led to substantial government investments in research and development, catalyzing advancements in computing, telecommunications, and materials science, which laid the groundwork for modern industries. Politically, space achievements were leveraged to project ideological superiority, demonstrating the geopolitical power of each nation. This technological rivalry eventually fostered international collaborations, including the formation of space agencies and joint missions, reflecting a shift from competition to cooperation in the post-Cold War era."
   ]
  },
  {
   "cell_type": "markdown",
   "metadata": {},
   "source": [
    "### 2. Data Collection And Cleaning"
   ]
  },
  {
   "cell_type": "markdown",
   "metadata": {},
   "source": [
    "The main data used for the analysis is a dataset made available through Kaggle by LaCla3D (https://www.kaggle.com/datasets/agirlcoding/all-space-missions-from-1957) which was webscraped from https://nextspaceflight.com/launches/past/?page=1. The dataset was downloaded and stored directly in the project folder as \"space_race_data.csv\"."
   ]
  },
  {
   "cell_type": "markdown",
   "metadata": {},
   "source": [
    "#### 2.1 Load Data"
   ]
  },
  {
   "cell_type": "code",
   "execution_count": 14,
   "metadata": {},
   "outputs": [],
   "source": [
    "data = pd.read_csv('./space_race_data.csv')"
   ]
  },
  {
   "cell_type": "markdown",
   "metadata": {},
   "source": [
    "#### 2.2 Understanding, Exploring And Adjusting The Dataset"
   ]
  },
  {
   "cell_type": "markdown",
   "metadata": {},
   "source": [
    "Here I checked the first few lines to see what kind of data is available:"
   ]
  },
  {
   "cell_type": "code",
   "execution_count": 15,
   "metadata": {},
   "outputs": [
    {
     "data": {
      "text/html": [
       "<div>\n",
       "<style scoped>\n",
       "    .dataframe tbody tr th:only-of-type {\n",
       "        vertical-align: middle;\n",
       "    }\n",
       "\n",
       "    .dataframe tbody tr th {\n",
       "        vertical-align: top;\n",
       "    }\n",
       "\n",
       "    .dataframe thead th {\n",
       "        text-align: right;\n",
       "    }\n",
       "</style>\n",
       "<table border=\"1\" class=\"dataframe\">\n",
       "  <thead>\n",
       "    <tr style=\"text-align: right;\">\n",
       "      <th></th>\n",
       "      <th>Unnamed: 0.1</th>\n",
       "      <th>Unnamed: 0</th>\n",
       "      <th>Company Name</th>\n",
       "      <th>Location</th>\n",
       "      <th>Datum</th>\n",
       "      <th>Detail</th>\n",
       "      <th>Status Rocket</th>\n",
       "      <th>Rocket</th>\n",
       "      <th>Status Mission</th>\n",
       "    </tr>\n",
       "  </thead>\n",
       "  <tbody>\n",
       "    <tr>\n",
       "      <th>0</th>\n",
       "      <td>0</td>\n",
       "      <td>0</td>\n",
       "      <td>SpaceX</td>\n",
       "      <td>LC-39A, Kennedy Space Center, Florida, USA</td>\n",
       "      <td>Fri Aug 07, 2020 05:12 UTC</td>\n",
       "      <td>Falcon 9 Block 5 | Starlink V1 L9 &amp; BlackSky</td>\n",
       "      <td>StatusActive</td>\n",
       "      <td>50.0</td>\n",
       "      <td>Success</td>\n",
       "    </tr>\n",
       "    <tr>\n",
       "      <th>1</th>\n",
       "      <td>1</td>\n",
       "      <td>1</td>\n",
       "      <td>CASC</td>\n",
       "      <td>Site 9401 (SLS-2), Jiuquan Satellite Launch Ce...</td>\n",
       "      <td>Thu Aug 06, 2020 04:01 UTC</td>\n",
       "      <td>Long March 2D | Gaofen-9 04 &amp; Q-SAT</td>\n",
       "      <td>StatusActive</td>\n",
       "      <td>29.75</td>\n",
       "      <td>Success</td>\n",
       "    </tr>\n",
       "    <tr>\n",
       "      <th>2</th>\n",
       "      <td>2</td>\n",
       "      <td>2</td>\n",
       "      <td>SpaceX</td>\n",
       "      <td>Pad A, Boca Chica, Texas, USA</td>\n",
       "      <td>Tue Aug 04, 2020 23:57 UTC</td>\n",
       "      <td>Starship Prototype | 150 Meter Hop</td>\n",
       "      <td>StatusActive</td>\n",
       "      <td>NaN</td>\n",
       "      <td>Success</td>\n",
       "    </tr>\n",
       "    <tr>\n",
       "      <th>3</th>\n",
       "      <td>3</td>\n",
       "      <td>3</td>\n",
       "      <td>Roscosmos</td>\n",
       "      <td>Site 200/39, Baikonur Cosmodrome, Kazakhstan</td>\n",
       "      <td>Thu Jul 30, 2020 21:25 UTC</td>\n",
       "      <td>Proton-M/Briz-M | Ekspress-80 &amp; Ekspress-103</td>\n",
       "      <td>StatusActive</td>\n",
       "      <td>65.0</td>\n",
       "      <td>Success</td>\n",
       "    </tr>\n",
       "    <tr>\n",
       "      <th>4</th>\n",
       "      <td>4</td>\n",
       "      <td>4</td>\n",
       "      <td>ULA</td>\n",
       "      <td>SLC-41, Cape Canaveral AFS, Florida, USA</td>\n",
       "      <td>Thu Jul 30, 2020 11:50 UTC</td>\n",
       "      <td>Atlas V 541 | Perseverance</td>\n",
       "      <td>StatusActive</td>\n",
       "      <td>145.0</td>\n",
       "      <td>Success</td>\n",
       "    </tr>\n",
       "  </tbody>\n",
       "</table>\n",
       "</div>"
      ],
      "text/plain": [
       "   Unnamed: 0.1  Unnamed: 0 Company Name  \\\n",
       "0             0           0       SpaceX   \n",
       "1             1           1         CASC   \n",
       "2             2           2       SpaceX   \n",
       "3             3           3    Roscosmos   \n",
       "4             4           4          ULA   \n",
       "\n",
       "                                            Location  \\\n",
       "0         LC-39A, Kennedy Space Center, Florida, USA   \n",
       "1  Site 9401 (SLS-2), Jiuquan Satellite Launch Ce...   \n",
       "2                      Pad A, Boca Chica, Texas, USA   \n",
       "3       Site 200/39, Baikonur Cosmodrome, Kazakhstan   \n",
       "4           SLC-41, Cape Canaveral AFS, Florida, USA   \n",
       "\n",
       "                        Datum                                        Detail  \\\n",
       "0  Fri Aug 07, 2020 05:12 UTC  Falcon 9 Block 5 | Starlink V1 L9 & BlackSky   \n",
       "1  Thu Aug 06, 2020 04:01 UTC           Long March 2D | Gaofen-9 04 & Q-SAT   \n",
       "2  Tue Aug 04, 2020 23:57 UTC            Starship Prototype | 150 Meter Hop   \n",
       "3  Thu Jul 30, 2020 21:25 UTC  Proton-M/Briz-M | Ekspress-80 & Ekspress-103   \n",
       "4  Thu Jul 30, 2020 11:50 UTC                    Atlas V 541 | Perseverance   \n",
       "\n",
       "  Status Rocket  Rocket Status Mission  \n",
       "0  StatusActive   50.0         Success  \n",
       "1  StatusActive  29.75         Success  \n",
       "2  StatusActive     NaN        Success  \n",
       "3  StatusActive   65.0         Success  \n",
       "4  StatusActive  145.0         Success  "
      ]
     },
     "execution_count": 15,
     "metadata": {},
     "output_type": "execute_result"
    }
   ],
   "source": [
    "data.head()"
   ]
  },
  {
   "cell_type": "markdown",
   "metadata": {},
   "source": [
    "Checked the original number of rows and columns."
   ]
  },
  {
   "cell_type": "code",
   "execution_count": 16,
   "metadata": {},
   "outputs": [
    {
     "name": "stdout",
     "output_type": "stream",
     "text": [
      "The dataset has 4324 rows and 9 columns.\n"
     ]
    }
   ],
   "source": [
    "print(f'The dataset has {data.shape[0]} rows and {data.shape[1]} columns.')"
   ]
  },
  {
   "cell_type": "markdown",
   "metadata": {},
   "source": [
    "Checked which data types were the dataset columns originally."
   ]
  },
  {
   "cell_type": "code",
   "execution_count": 17,
   "metadata": {},
   "outputs": [
    {
     "name": "stdout",
     "output_type": "stream",
     "text": [
      "<class 'pandas.core.frame.DataFrame'>\n",
      "RangeIndex: 4324 entries, 0 to 4323\n",
      "Data columns (total 9 columns):\n",
      " #   Column          Non-Null Count  Dtype \n",
      "---  ------          --------------  ----- \n",
      " 0   Unnamed: 0.1    4324 non-null   int64 \n",
      " 1   Unnamed: 0      4324 non-null   int64 \n",
      " 2   Company Name    4324 non-null   object\n",
      " 3   Location        4324 non-null   object\n",
      " 4   Datum           4324 non-null   object\n",
      " 5   Detail          4324 non-null   object\n",
      " 6   Status Rocket   4324 non-null   object\n",
      " 7    Rocket         964 non-null    object\n",
      " 8   Status Mission  4324 non-null   object\n",
      "dtypes: int64(2), object(7)\n",
      "memory usage: 304.2+ KB\n"
     ]
    }
   ],
   "source": [
    "data.info()"
   ]
  },
  {
   "cell_type": "markdown",
   "metadata": {},
   "source": [
    "##### Key observations on cleaning that needs to be done\n",
    "- The first two columns seem to be just repetitions of the dataset's index, they can be dropped.\n",
    "- Column labels can be simplified\n",
    "- Data types need to be adjusted for some columns"
   ]
  },
  {
   "cell_type": "markdown",
   "metadata": {},
   "source": [
    "##### Dropping Columns with Repeated Index"
   ]
  },
  {
   "cell_type": "code",
   "execution_count": 18,
   "metadata": {},
   "outputs": [
    {
     "data": {
      "text/html": [
       "<div>\n",
       "<style scoped>\n",
       "    .dataframe tbody tr th:only-of-type {\n",
       "        vertical-align: middle;\n",
       "    }\n",
       "\n",
       "    .dataframe tbody tr th {\n",
       "        vertical-align: top;\n",
       "    }\n",
       "\n",
       "    .dataframe thead th {\n",
       "        text-align: right;\n",
       "    }\n",
       "</style>\n",
       "<table border=\"1\" class=\"dataframe\">\n",
       "  <thead>\n",
       "    <tr style=\"text-align: right;\">\n",
       "      <th></th>\n",
       "      <th>Company Name</th>\n",
       "      <th>Location</th>\n",
       "      <th>Datum</th>\n",
       "      <th>Detail</th>\n",
       "      <th>Status Rocket</th>\n",
       "      <th>Rocket</th>\n",
       "      <th>Status Mission</th>\n",
       "    </tr>\n",
       "  </thead>\n",
       "  <tbody>\n",
       "    <tr>\n",
       "      <th>0</th>\n",
       "      <td>SpaceX</td>\n",
       "      <td>LC-39A, Kennedy Space Center, Florida, USA</td>\n",
       "      <td>Fri Aug 07, 2020 05:12 UTC</td>\n",
       "      <td>Falcon 9 Block 5 | Starlink V1 L9 &amp; BlackSky</td>\n",
       "      <td>StatusActive</td>\n",
       "      <td>50.0</td>\n",
       "      <td>Success</td>\n",
       "    </tr>\n",
       "    <tr>\n",
       "      <th>1</th>\n",
       "      <td>CASC</td>\n",
       "      <td>Site 9401 (SLS-2), Jiuquan Satellite Launch Ce...</td>\n",
       "      <td>Thu Aug 06, 2020 04:01 UTC</td>\n",
       "      <td>Long March 2D | Gaofen-9 04 &amp; Q-SAT</td>\n",
       "      <td>StatusActive</td>\n",
       "      <td>29.75</td>\n",
       "      <td>Success</td>\n",
       "    </tr>\n",
       "    <tr>\n",
       "      <th>2</th>\n",
       "      <td>SpaceX</td>\n",
       "      <td>Pad A, Boca Chica, Texas, USA</td>\n",
       "      <td>Tue Aug 04, 2020 23:57 UTC</td>\n",
       "      <td>Starship Prototype | 150 Meter Hop</td>\n",
       "      <td>StatusActive</td>\n",
       "      <td>NaN</td>\n",
       "      <td>Success</td>\n",
       "    </tr>\n",
       "    <tr>\n",
       "      <th>3</th>\n",
       "      <td>Roscosmos</td>\n",
       "      <td>Site 200/39, Baikonur Cosmodrome, Kazakhstan</td>\n",
       "      <td>Thu Jul 30, 2020 21:25 UTC</td>\n",
       "      <td>Proton-M/Briz-M | Ekspress-80 &amp; Ekspress-103</td>\n",
       "      <td>StatusActive</td>\n",
       "      <td>65.0</td>\n",
       "      <td>Success</td>\n",
       "    </tr>\n",
       "    <tr>\n",
       "      <th>4</th>\n",
       "      <td>ULA</td>\n",
       "      <td>SLC-41, Cape Canaveral AFS, Florida, USA</td>\n",
       "      <td>Thu Jul 30, 2020 11:50 UTC</td>\n",
       "      <td>Atlas V 541 | Perseverance</td>\n",
       "      <td>StatusActive</td>\n",
       "      <td>145.0</td>\n",
       "      <td>Success</td>\n",
       "    </tr>\n",
       "  </tbody>\n",
       "</table>\n",
       "</div>"
      ],
      "text/plain": [
       "  Company Name                                           Location  \\\n",
       "0       SpaceX         LC-39A, Kennedy Space Center, Florida, USA   \n",
       "1         CASC  Site 9401 (SLS-2), Jiuquan Satellite Launch Ce...   \n",
       "2       SpaceX                      Pad A, Boca Chica, Texas, USA   \n",
       "3    Roscosmos       Site 200/39, Baikonur Cosmodrome, Kazakhstan   \n",
       "4          ULA           SLC-41, Cape Canaveral AFS, Florida, USA   \n",
       "\n",
       "                        Datum                                        Detail  \\\n",
       "0  Fri Aug 07, 2020 05:12 UTC  Falcon 9 Block 5 | Starlink V1 L9 & BlackSky   \n",
       "1  Thu Aug 06, 2020 04:01 UTC           Long March 2D | Gaofen-9 04 & Q-SAT   \n",
       "2  Tue Aug 04, 2020 23:57 UTC            Starship Prototype | 150 Meter Hop   \n",
       "3  Thu Jul 30, 2020 21:25 UTC  Proton-M/Briz-M | Ekspress-80 & Ekspress-103   \n",
       "4  Thu Jul 30, 2020 11:50 UTC                    Atlas V 541 | Perseverance   \n",
       "\n",
       "  Status Rocket  Rocket Status Mission  \n",
       "0  StatusActive   50.0         Success  \n",
       "1  StatusActive  29.75         Success  \n",
       "2  StatusActive     NaN        Success  \n",
       "3  StatusActive   65.0         Success  \n",
       "4  StatusActive  145.0         Success  "
      ]
     },
     "execution_count": 18,
     "metadata": {},
     "output_type": "execute_result"
    }
   ],
   "source": [
    "data.drop(labels=['Unnamed: 0.1','Unnamed: 0'], axis=1, inplace=True)\n",
    "data.head()"
   ]
  },
  {
   "cell_type": "markdown",
   "metadata": {},
   "source": [
    "##### Rename Columns"
   ]
  },
  {
   "cell_type": "code",
   "execution_count": 31,
   "metadata": {},
   "outputs": [
    {
     "data": {
      "text/html": [
       "<div>\n",
       "<style scoped>\n",
       "    .dataframe tbody tr th:only-of-type {\n",
       "        vertical-align: middle;\n",
       "    }\n",
       "\n",
       "    .dataframe tbody tr th {\n",
       "        vertical-align: top;\n",
       "    }\n",
       "\n",
       "    .dataframe thead th {\n",
       "        text-align: right;\n",
       "    }\n",
       "</style>\n",
       "<table border=\"1\" class=\"dataframe\">\n",
       "  <thead>\n",
       "    <tr style=\"text-align: right;\">\n",
       "      <th></th>\n",
       "      <th>company</th>\n",
       "      <th>location</th>\n",
       "      <th>date</th>\n",
       "      <th>rocket_name</th>\n",
       "      <th>rocket_status</th>\n",
       "      <th>mission_cost</th>\n",
       "      <th>mission_status</th>\n",
       "    </tr>\n",
       "  </thead>\n",
       "  <tbody>\n",
       "    <tr>\n",
       "      <th>0</th>\n",
       "      <td>SpaceX</td>\n",
       "      <td>LC-39A, Kennedy Space Center, Florida, USA</td>\n",
       "      <td>Fri Aug 07, 2020 05:12 UTC</td>\n",
       "      <td>Falcon 9 Block 5 | Starlink V1 L9 &amp; BlackSky</td>\n",
       "      <td>StatusActive</td>\n",
       "      <td>50.0</td>\n",
       "      <td>Success</td>\n",
       "    </tr>\n",
       "    <tr>\n",
       "      <th>1</th>\n",
       "      <td>CASC</td>\n",
       "      <td>Site 9401 (SLS-2), Jiuquan Satellite Launch Ce...</td>\n",
       "      <td>Thu Aug 06, 2020 04:01 UTC</td>\n",
       "      <td>Long March 2D | Gaofen-9 04 &amp; Q-SAT</td>\n",
       "      <td>StatusActive</td>\n",
       "      <td>29.75</td>\n",
       "      <td>Success</td>\n",
       "    </tr>\n",
       "    <tr>\n",
       "      <th>2</th>\n",
       "      <td>SpaceX</td>\n",
       "      <td>Pad A, Boca Chica, Texas, USA</td>\n",
       "      <td>Tue Aug 04, 2020 23:57 UTC</td>\n",
       "      <td>Starship Prototype | 150 Meter Hop</td>\n",
       "      <td>StatusActive</td>\n",
       "      <td>NaN</td>\n",
       "      <td>Success</td>\n",
       "    </tr>\n",
       "    <tr>\n",
       "      <th>3</th>\n",
       "      <td>Roscosmos</td>\n",
       "      <td>Site 200/39, Baikonur Cosmodrome, Kazakhstan</td>\n",
       "      <td>Thu Jul 30, 2020 21:25 UTC</td>\n",
       "      <td>Proton-M/Briz-M | Ekspress-80 &amp; Ekspress-103</td>\n",
       "      <td>StatusActive</td>\n",
       "      <td>65.0</td>\n",
       "      <td>Success</td>\n",
       "    </tr>\n",
       "    <tr>\n",
       "      <th>4</th>\n",
       "      <td>ULA</td>\n",
       "      <td>SLC-41, Cape Canaveral AFS, Florida, USA</td>\n",
       "      <td>Thu Jul 30, 2020 11:50 UTC</td>\n",
       "      <td>Atlas V 541 | Perseverance</td>\n",
       "      <td>StatusActive</td>\n",
       "      <td>145.0</td>\n",
       "      <td>Success</td>\n",
       "    </tr>\n",
       "  </tbody>\n",
       "</table>\n",
       "</div>"
      ],
      "text/plain": [
       "     company                                           location  \\\n",
       "0     SpaceX         LC-39A, Kennedy Space Center, Florida, USA   \n",
       "1       CASC  Site 9401 (SLS-2), Jiuquan Satellite Launch Ce...   \n",
       "2     SpaceX                      Pad A, Boca Chica, Texas, USA   \n",
       "3  Roscosmos       Site 200/39, Baikonur Cosmodrome, Kazakhstan   \n",
       "4        ULA           SLC-41, Cape Canaveral AFS, Florida, USA   \n",
       "\n",
       "                         date                                   rocket_name  \\\n",
       "0  Fri Aug 07, 2020 05:12 UTC  Falcon 9 Block 5 | Starlink V1 L9 & BlackSky   \n",
       "1  Thu Aug 06, 2020 04:01 UTC           Long March 2D | Gaofen-9 04 & Q-SAT   \n",
       "2  Tue Aug 04, 2020 23:57 UTC            Starship Prototype | 150 Meter Hop   \n",
       "3  Thu Jul 30, 2020 21:25 UTC  Proton-M/Briz-M | Ekspress-80 & Ekspress-103   \n",
       "4  Thu Jul 30, 2020 11:50 UTC                    Atlas V 541 | Perseverance   \n",
       "\n",
       "  rocket_status mission_cost mission_status  \n",
       "0  StatusActive        50.0         Success  \n",
       "1  StatusActive       29.75         Success  \n",
       "2  StatusActive          NaN        Success  \n",
       "3  StatusActive        65.0         Success  \n",
       "4  StatusActive       145.0         Success  "
      ]
     },
     "execution_count": 31,
     "metadata": {},
     "output_type": "execute_result"
    }
   ],
   "source": [
    "data.rename(columns={'Company Name':'company',\n",
    "                     'Location':'location',\n",
    "                     'Datum':'date',\n",
    "                     'Detail':'rocket_name',\n",
    "                     'Status Rocket':'rocket_status',\n",
    "                     ' Rocket':'mission_cost',\n",
    "                     'Status Mission':'mission_status'}, inplace=True)\n",
    "data.head()"
   ]
  },
  {
   "cell_type": "markdown",
   "metadata": {},
   "source": [
    "##### Description of the dataset's columns\n",
    "- **company** : The name of the company that has launched the rocket.\n",
    "- **location** : The location where the launch took place.\n",
    "- **date** : The date when the launch took place.\n",
    "- **rocket_name** : The name of the rocket.\n",
    "- **rocket_status** : Indicates whether the rocket is still active or not.\n",
    "- **mission_cost** : How much has the launch costed.\n",
    "- **mission_status** : Indicates whether the rocket launch succeeded or failed."
   ]
  },
  {
   "cell_type": "markdown",
   "metadata": {},
   "source": [
    "##### Convert date to datetime"
   ]
  },
  {
   "cell_type": "code",
   "execution_count": 60,
   "metadata": {},
   "outputs": [
    {
     "data": {
      "text/html": [
       "<div>\n",
       "<style scoped>\n",
       "    .dataframe tbody tr th:only-of-type {\n",
       "        vertical-align: middle;\n",
       "    }\n",
       "\n",
       "    .dataframe tbody tr th {\n",
       "        vertical-align: top;\n",
       "    }\n",
       "\n",
       "    .dataframe thead th {\n",
       "        text-align: right;\n",
       "    }\n",
       "</style>\n",
       "<table border=\"1\" class=\"dataframe\">\n",
       "  <thead>\n",
       "    <tr style=\"text-align: right;\">\n",
       "      <th></th>\n",
       "      <th>company</th>\n",
       "      <th>location</th>\n",
       "      <th>date</th>\n",
       "      <th>rocket_name</th>\n",
       "      <th>rocket_status</th>\n",
       "      <th>mission_cost</th>\n",
       "      <th>mission_status</th>\n",
       "    </tr>\n",
       "  </thead>\n",
       "  <tbody>\n",
       "    <tr>\n",
       "      <th>0</th>\n",
       "      <td>SpaceX</td>\n",
       "      <td>LC-39A, Kennedy Space Center, Florida, USA</td>\n",
       "      <td>2020-08-07</td>\n",
       "      <td>Falcon 9 Block 5 | Starlink V1 L9 &amp; BlackSky</td>\n",
       "      <td>StatusActive</td>\n",
       "      <td>50.0</td>\n",
       "      <td>Success</td>\n",
       "    </tr>\n",
       "    <tr>\n",
       "      <th>1</th>\n",
       "      <td>CASC</td>\n",
       "      <td>Site 9401 (SLS-2), Jiuquan Satellite Launch Ce...</td>\n",
       "      <td>2020-08-06</td>\n",
       "      <td>Long March 2D | Gaofen-9 04 &amp; Q-SAT</td>\n",
       "      <td>StatusActive</td>\n",
       "      <td>29.75</td>\n",
       "      <td>Success</td>\n",
       "    </tr>\n",
       "    <tr>\n",
       "      <th>2</th>\n",
       "      <td>SpaceX</td>\n",
       "      <td>Pad A, Boca Chica, Texas, USA</td>\n",
       "      <td>2020-08-04</td>\n",
       "      <td>Starship Prototype | 150 Meter Hop</td>\n",
       "      <td>StatusActive</td>\n",
       "      <td>NaN</td>\n",
       "      <td>Success</td>\n",
       "    </tr>\n",
       "    <tr>\n",
       "      <th>3</th>\n",
       "      <td>Roscosmos</td>\n",
       "      <td>Site 200/39, Baikonur Cosmodrome, Kazakhstan</td>\n",
       "      <td>2020-07-30</td>\n",
       "      <td>Proton-M/Briz-M | Ekspress-80 &amp; Ekspress-103</td>\n",
       "      <td>StatusActive</td>\n",
       "      <td>65.0</td>\n",
       "      <td>Success</td>\n",
       "    </tr>\n",
       "    <tr>\n",
       "      <th>4</th>\n",
       "      <td>ULA</td>\n",
       "      <td>SLC-41, Cape Canaveral AFS, Florida, USA</td>\n",
       "      <td>2020-07-30</td>\n",
       "      <td>Atlas V 541 | Perseverance</td>\n",
       "      <td>StatusActive</td>\n",
       "      <td>145.0</td>\n",
       "      <td>Success</td>\n",
       "    </tr>\n",
       "  </tbody>\n",
       "</table>\n",
       "</div>"
      ],
      "text/plain": [
       "     company                                           location        date  \\\n",
       "0     SpaceX         LC-39A, Kennedy Space Center, Florida, USA  2020-08-07   \n",
       "1       CASC  Site 9401 (SLS-2), Jiuquan Satellite Launch Ce...  2020-08-06   \n",
       "2     SpaceX                      Pad A, Boca Chica, Texas, USA  2020-08-04   \n",
       "3  Roscosmos       Site 200/39, Baikonur Cosmodrome, Kazakhstan  2020-07-30   \n",
       "4        ULA           SLC-41, Cape Canaveral AFS, Florida, USA  2020-07-30   \n",
       "\n",
       "                                    rocket_name rocket_status mission_cost  \\\n",
       "0  Falcon 9 Block 5 | Starlink V1 L9 & BlackSky  StatusActive        50.0    \n",
       "1           Long March 2D | Gaofen-9 04 & Q-SAT  StatusActive       29.75    \n",
       "2            Starship Prototype | 150 Meter Hop  StatusActive          NaN   \n",
       "3  Proton-M/Briz-M | Ekspress-80 & Ekspress-103  StatusActive        65.0    \n",
       "4                    Atlas V 541 | Perseverance  StatusActive       145.0    \n",
       "\n",
       "  mission_status  \n",
       "0        Success  \n",
       "1        Success  \n",
       "2        Success  \n",
       "3        Success  \n",
       "4        Success  "
      ]
     },
     "execution_count": 60,
     "metadata": {},
     "output_type": "execute_result"
    }
   ],
   "source": [
    "data.date = pd.to_datetime(data.date, \n",
    "                           format='mixed', \n",
    "                           utc=True).dt.strftime('%Y-%m-%d')\n",
    "data.head()\n"
   ]
  },
  {
   "cell_type": "markdown",
   "metadata": {},
   "source": []
  }
 ],
 "metadata": {
  "kernelspec": {
   "display_name": "Python 3",
   "language": "python",
   "name": "python3"
  },
  "language_info": {
   "codemirror_mode": {
    "name": "ipython",
    "version": 3
   },
   "file_extension": ".py",
   "mimetype": "text/x-python",
   "name": "python",
   "nbconvert_exporter": "python",
   "pygments_lexer": "ipython3",
   "version": "3.11.5"
  }
 },
 "nbformat": 4,
 "nbformat_minor": 2
}
